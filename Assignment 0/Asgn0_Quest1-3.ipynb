{
 "cells": [
  {
   "cell_type": "markdown",
   "id": "a7519897",
   "metadata": {},
   "source": [
    "P346 - Computational Physics\n",
    "Assignment - 0\n",
    "Name - Aryan Shrivastava\n",
    "Roll no. - 2311041"
   ]
  },
  {
   "cell_type": "markdown",
   "id": "cc546a94",
   "metadata": {},
   "source": [
    "1. Question"
   ]
  },
  {
   "cell_type": "code",
   "execution_count": 4,
   "id": "ce6bd939",
   "metadata": {},
   "outputs": [
    {
     "name": "stdout",
     "output_type": "stream",
     "text": [
      "Sum of first 20 odd numbers is: 400\n",
      "Factorial of 8 is: 40320\n"
     ]
    },
    {
     "data": {
      "text/plain": [
       "'\\nOutput:\\nSum of first 20 odd numbers is: 400\\nFactorial of 8 is: 40320\\n'"
      ]
     },
     "execution_count": 4,
     "metadata": {},
     "output_type": "execute_result"
    }
   ],
   "source": [
    "#Function to check if a given number is odd\n",
    "def is_odd(n):  \n",
    "    if n%2 != 0:\n",
    "        return True\n",
    "    else:\n",
    "        return False\n",
    "    \n",
    "L = []\n",
    "i = 0\n",
    "while len(L) < 20:\n",
    "    if is_odd(i) == True:\n",
    "        L.append(i)\n",
    "    i += 1\n",
    "\n",
    "def sum_list(L):\n",
    "    sum = 0\n",
    "    for i in L:\n",
    "        sum += i\n",
    "    return sum\n",
    "\n",
    "print(\"Sum of first 20 odd numbers is:\", sum_list(L))\n",
    "\n",
    "#Function to calculate factorial\n",
    "def fact(n):  \n",
    "    if n == 0:\n",
    "        return 1\n",
    "    else:\n",
    "        return n*fact(n-1)\n",
    "    \n",
    "print(\"Factorial of 8 is:\", fact(8))\n",
    "\n",
    "'''\n",
    "Output:\n",
    "Sum of first 20 odd numbers is: 400\n",
    "Factorial of 8 is: 40320\n",
    "'''\n"
   ]
  },
  {
   "cell_type": "markdown",
   "id": "a4cfdd35",
   "metadata": {},
   "source": [
    "2. Question"
   ]
  },
  {
   "cell_type": "code",
   "execution_count": 5,
   "id": "0465269e",
   "metadata": {},
   "outputs": [
    {
     "name": "stdout",
     "output_type": "stream",
     "text": [
      "The GP for given parameters is: [1.25, 0.625, 0.3125, 0.15625, 0.078125, 0.0390625, 0.01953125, 0.009765625, 0.0048828125, 0.00244140625, 0.001220703125, 0.0006103515625, 0.00030517578125, 0.000152587890625, 7.62939453125e-05]\n",
      "Sum of GP is: 2.4999237060546875\n",
      "The HP for given parameters is [0.8, 0.36363636363636365, 0.23529411764705882, 0.17391304347826086, 0.13793103448275862, 0.11428571428571428, 0.0975609756097561, 0.0851063829787234, 0.07547169811320754, 0.06779661016949153, 0.06153846153846154, 0.056338028169014086, 0.05194805194805195, 0.04819277108433735, 0.0449438202247191]\n",
      "Sum of HP is: 2.4139570733659186\n"
     ]
    },
    {
     "data": {
      "text/plain": [
       "'\\nOutput:\\nThe GP for given parameters is: [1.25, 0.625, 0.3125, 0.15625, 0.078125, 0.0390625, 0.01953125, 0.009765625, 0.0048828125, 0.00244140625, 0.001220703125, 0.0006103515625, 0.00030517578125, 0.000152587890625, 7.62939453125e-05]\\nSum of GP is: 2.4999237060546875\\nThe HP for given parameters is [0.8, 0.36363636363636365, 0.23529411764705882, 0.17391304347826086, 0.13793103448275862, 0.11428571428571428, 0.0975609756097561, 0.0851063829787234, 0.07547169811320754, 0.06779661016949153, 0.06153846153846154, 0.056338028169014086, 0.05194805194805195, 0.04819277108433735, 0.0449438202247191]\\nSum of HP is: 2.4139570733659186\\n'"
      ]
     },
     "execution_count": 5,
     "metadata": {},
     "output_type": "execute_result"
    }
   ],
   "source": [
    "#Makes a list of numbers in the GP\n",
    "def make_GP(num, start, cr): \n",
    "    L = []\n",
    "    var = start\n",
    "    while len(L) < num:\n",
    "        L.append(var)\n",
    "        var = var*cr\n",
    "    return L\n",
    "\n",
    "GP = make_GP(15, 1.25, 0.5)\n",
    "print(\"The GP for given parameters is:\",GP)\n",
    "print(\"Sum of GP is:\", sum_list(GP))\n",
    "\n",
    "#Makes a list of numbers in the HP\n",
    "def make_HP(num, start, cd):\n",
    "    L = []\n",
    "    var = start\n",
    "    while len(L) < num:\n",
    "        L.append((var)**(-1))\n",
    "        var += cd \n",
    "    return L\n",
    "\n",
    "HP = make_HP(15, 1.25, 1.5)\n",
    "print(\"The HP for given parameters is\", HP)\n",
    "print(\"Sum of HP is:\",sum_list(HP))\n",
    "    \n",
    "'''\n",
    "Output:\n",
    "The GP for given parameters is: [1.25, 0.625, 0.3125, 0.15625, 0.078125, 0.0390625, 0.01953125, 0.009765625, 0.0048828125, 0.00244140625, 0.001220703125, 0.0006103515625, 0.00030517578125, 0.000152587890625, 7.62939453125e-05]\n",
    "Sum of GP is: 2.4999237060546875\n",
    "The HP for given parameters is [0.8, 0.36363636363636365, 0.23529411764705882, 0.17391304347826086, 0.13793103448275862, 0.11428571428571428, 0.0975609756097561, 0.0851063829787234, 0.07547169811320754, 0.06779661016949153, 0.06153846153846154, 0.056338028169014086, 0.05194805194805195, 0.04819277108433735, 0.0449438202247191]\n",
    "Sum of HP is: 2.4139570733659186\n",
    "'''\n"
   ]
  },
  {
   "cell_type": "markdown",
   "id": "67215422",
   "metadata": {},
   "source": [
    "3. Question"
   ]
  },
  {
   "cell_type": "code",
   "execution_count": 6,
   "id": "a1d6a05d",
   "metadata": {},
   "outputs": [
    {
     "name": "stdout",
     "output_type": "stream",
     "text": [
      "[[2.0, -3.0, 1.4], [2.5, 1.0, -2.0], [-0.8, 0.0, 3.1]]\n",
      "[[0.0, -1.0, 1.0], [1.5, 0.5, -2.0], [3.0, 0.0, -2.0]]\n",
      "[[-2.0], [0.5], [1.5]]\n",
      "[[1.0], [0.0], [-1.0]]\n",
      "The matrix multiplication of A and B gives: [[-0.3000000000000007, -3.5, 5.2], [-4.5, -2.0, 4.5], [9.3, 0.8, -7.0]]\n",
      "The dot product of D and C gives: -3.5\n",
      "The D.C gives: [[1.0], [-5.75], [-9.0]]\n"
     ]
    },
    {
     "data": {
      "text/plain": [
       "'\\nOutput:\\n[[2.0, -3.0, 1.4], [2.5, 1.0, -2.0], [-0.8, 0.0, 3.1]]\\n[[0.0, -1.0, 1.0], [1.5, 0.5, -2.0], [3.0, 0.0, -2.0]]\\n[[-2.0], [0.5], [1.5]]\\n[[1.0], [0.0], [-1.0]]\\nThe matrix multiplication of A and B gives: [[-0.3000000000000007, -3.5, 5.2], [-4.5, -2.0, 4.5], [9.3, 0.8, -7.0]]\\nThe dot product of D and C gives: -3.5\\nThe D.C gives: [[1.0], [-5.75], [-9.0]]\\n'"
      ]
     },
     "execution_count": 6,
     "metadata": {},
     "output_type": "execute_result"
    }
   ],
   "source": [
    "#To multiply matrices (can also multply a matrix to a vector)\n",
    "def matrix_multiply(A, B): \n",
    "    if len(A[0]) != len(B):\n",
    "        raise ValueError(\"Given matrices cannot be multiplied\")\n",
    "    \n",
    "    result = [[0 for k in range(len(B[0]))] for k in range(len(A))]  #Start with a zero matrix\n",
    "\n",
    "    for i in range(len(A)):\n",
    "        for j in range(len(B[0])):     #Go to each element of the initialized zero matrix\n",
    "            for k in range(len(B)):\n",
    "                result[i][j] += A[i][k] * B[k][j]    #Add to get desired element\n",
    "    return result\n",
    "\n",
    "def read_matrix(filename):  #To read a txt file \n",
    "    with open(filename,'r') as f:\n",
    "        matrix = []\n",
    "        for line in f:\n",
    "            #Split the line into numbers and convert into int/float\n",
    "            row = [float(num) for num in line.strip().split()]\n",
    "            matrix.append(row)\n",
    "        return matrix\n",
    "    \n",
    "def dot_product(A,B): \n",
    "    d = 0\n",
    "    for i in range(len(A)):\n",
    "        d += A[i][0]*B[i][0]\n",
    "    return d\n",
    "    \n",
    "A = read_matrix('asgn0_matA')\n",
    "B = read_matrix('asgn0_matB')\n",
    "vecC = read_matrix('asgn0_vecC')\n",
    "vecD = read_matrix('asgn0_vecD')\n",
    "print(A)\n",
    "print(B)\n",
    "print(vecC)\n",
    "print(vecD)\n",
    "\n",
    "print(\"The matrix multiplication of A and B gives:\", matrix_multiply(A,B))\n",
    "print(\"The dot product of D and C gives:\", dot_product(vecD, vecC))\n",
    "print(\"The D.C gives:\", matrix_multiply(B,vecC))\n",
    "\n",
    "'''\n",
    "Output:\n",
    "[[2.0, -3.0, 1.4], [2.5, 1.0, -2.0], [-0.8, 0.0, 3.1]]\n",
    "[[0.0, -1.0, 1.0], [1.5, 0.5, -2.0], [3.0, 0.0, -2.0]]\n",
    "[[-2.0], [0.5], [1.5]]\n",
    "[[1.0], [0.0], [-1.0]]\n",
    "The matrix multiplication of A and B gives: [[-0.3000000000000007, -3.5, 5.2], [-4.5, -2.0, 4.5], [9.3, 0.8, -7.0]]\n",
    "The dot product of D and C gives: -3.5\n",
    "The D.C gives: [[1.0], [-5.75], [-9.0]]\n",
    "'''\n"
   ]
  },
  {
   "cell_type": "markdown",
   "id": "b7437cb6",
   "metadata": {},
   "source": [
    "4. Question is attached in a separate python file"
   ]
  }
 ],
 "metadata": {
  "kernelspec": {
   "display_name": "compenv",
   "language": "python",
   "name": "python3"
  },
  "language_info": {
   "codemirror_mode": {
    "name": "ipython",
    "version": 3
   },
   "file_extension": ".py",
   "mimetype": "text/x-python",
   "name": "python",
   "nbconvert_exporter": "python",
   "pygments_lexer": "ipython3",
   "version": "3.13.5"
  }
 },
 "nbformat": 4,
 "nbformat_minor": 5
}
